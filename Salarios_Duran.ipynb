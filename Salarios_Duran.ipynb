{
 "cells": [
  {
   "cell_type": "markdown",
   "id": "4894d6de-cab8-442d-945d-20a596368785",
   "metadata": {},
   "source": [
    "# Exploración de los datos salariales del Municipio de Durán-Ecuador."
   ]
  },
  {
   "cell_type": "markdown",
   "id": "2efbd252-3585-48e1-a422-d41352a922a6",
   "metadata": {},
   "source": [
    "Una forma de entender cómo funciona el gobierno de una ciudad es observar a quién emplea y cómo se compensa a sus empleados. Estos datos contienen los nombres, el cargo y la compensación de los empleados del Municipio de Duran desde 2015 hasta 2022."
   ]
  },
  {
   "cell_type": "markdown",
   "id": "539c4483-13be-40f5-9fb2-91b913664c41",
   "metadata": {},
   "source": [
    "## Librerías"
   ]
  },
  {
   "cell_type": "code",
   "execution_count": 237,
   "id": "e6df14e6-a64f-4eaa-bde9-8f54d96cee4b",
   "metadata": {},
   "outputs": [],
   "source": [
    "import pandas as pd"
   ]
  },
  {
   "cell_type": "markdown",
   "id": "60c37d70-15fb-401c-bb34-43aa9c225aff",
   "metadata": {},
   "source": [
    "## Data"
   ]
  },
  {
   "cell_type": "code",
   "execution_count": 238,
   "id": "6a1bda7f-f315-4bc0-9bce-3af688326a26",
   "metadata": {},
   "outputs": [],
   "source": [
    "columnas = ['secuencial', 'identificacion', 'nombre', 'puesto', 'regimen', 'partida_presupuestaria', 'grado_de_puesto', 'salario_mensual', 'salario_anual', 'decimo_tercera', 'decimo_cuarta', 'horas_suplementarias', 'subrogaciones', 'total_ingresos_adicionales', 'anio', 'mes']\n",
    "df_salarios = pd.read_csv('./dataset/salaries.csv', names=columnas, low_memory=False)"
   ]
  },
  {
   "cell_type": "markdown",
   "id": "9bca0710-0c56-458f-9056-c5c13ac926b2",
   "metadata": {},
   "source": [
    "Verificamos los primeros registros del dataframe."
   ]
  },
  {
   "cell_type": "code",
   "execution_count": 239,
   "id": "db0ba498-dc1e-452f-bd67-6aadfa522630",
   "metadata": {},
   "outputs": [
    {
     "data": {
      "text/html": [
       "<div>\n",
       "<style scoped>\n",
       "    .dataframe tbody tr th:only-of-type {\n",
       "        vertical-align: middle;\n",
       "    }\n",
       "\n",
       "    .dataframe tbody tr th {\n",
       "        vertical-align: top;\n",
       "    }\n",
       "\n",
       "    .dataframe thead th {\n",
       "        text-align: right;\n",
       "    }\n",
       "</style>\n",
       "<table border=\"1\" class=\"dataframe\">\n",
       "  <thead>\n",
       "    <tr style=\"text-align: right;\">\n",
       "      <th></th>\n",
       "      <th>secuencial</th>\n",
       "      <th>identificacion</th>\n",
       "      <th>nombre</th>\n",
       "      <th>puesto</th>\n",
       "      <th>regimen</th>\n",
       "      <th>partida_presupuestaria</th>\n",
       "      <th>grado_de_puesto</th>\n",
       "      <th>salario_mensual</th>\n",
       "      <th>salario_anual</th>\n",
       "      <th>decimo_tercera</th>\n",
       "      <th>decimo_cuarta</th>\n",
       "      <th>horas_suplementarias</th>\n",
       "      <th>subrogaciones</th>\n",
       "      <th>total_ingresos_adicionales</th>\n",
       "      <th>anio</th>\n",
       "      <th>mes</th>\n",
       "    </tr>\n",
       "  </thead>\n",
       "  <tbody>\n",
       "    <tr>\n",
       "      <th>0</th>\n",
       "      <td>1</td>\n",
       "      <td>NaN</td>\n",
       "      <td>Abad Dumas Hernan Rodrigo</td>\n",
       "      <td>Soldador</td>\n",
       "      <td>COD_TRABAJO</td>\n",
       "      <td>1.111511e+09</td>\n",
       "      <td>COD_TRABAJO</td>\n",
       "      <td>548.0</td>\n",
       "      <td>6576.0</td>\n",
       "      <td>0.0</td>\n",
       "      <td>0.0</td>\n",
       "      <td>0.0</td>\n",
       "      <td>0.0</td>\n",
       "      <td>0.0</td>\n",
       "      <td>2015</td>\n",
       "      <td>abril</td>\n",
       "    </tr>\n",
       "    <tr>\n",
       "      <th>1</th>\n",
       "      <td>2</td>\n",
       "      <td>NaN</td>\n",
       "      <td>Acosta Caicedo Dennis Josue</td>\n",
       "      <td>Aseador de Calle</td>\n",
       "      <td>COD_TRABAJO</td>\n",
       "      <td>3.504711e+09</td>\n",
       "      <td>COD_TRABAJO</td>\n",
       "      <td>420.0</td>\n",
       "      <td>5040.0</td>\n",
       "      <td>0.0</td>\n",
       "      <td>0.0</td>\n",
       "      <td>460.39</td>\n",
       "      <td>0.0</td>\n",
       "      <td>0.0</td>\n",
       "      <td>2015</td>\n",
       "      <td>abril</td>\n",
       "    </tr>\n",
       "    <tr>\n",
       "      <th>2</th>\n",
       "      <td>3</td>\n",
       "      <td>NaN</td>\n",
       "      <td>Acosta Hernandez Manuel  de Jesus</td>\n",
       "      <td>Aseador de Calle</td>\n",
       "      <td>COD_TRABAJO</td>\n",
       "      <td>3.504711e+09</td>\n",
       "      <td>COD_TRABAJO</td>\n",
       "      <td>420.0</td>\n",
       "      <td>5040.0</td>\n",
       "      <td>0.0</td>\n",
       "      <td>0.0</td>\n",
       "      <td>393.3</td>\n",
       "      <td>0.0</td>\n",
       "      <td>0.0</td>\n",
       "      <td>2015</td>\n",
       "      <td>abril</td>\n",
       "    </tr>\n",
       "    <tr>\n",
       "      <th>3</th>\n",
       "      <td>4</td>\n",
       "      <td>NaN</td>\n",
       "      <td>Aguayo Macias Maria Isabel</td>\n",
       "      <td>Asistente Tecnico</td>\n",
       "      <td>LOSEP</td>\n",
       "      <td>1.106510e+09</td>\n",
       "      <td>SPA2</td>\n",
       "      <td>622.0</td>\n",
       "      <td>7464.0</td>\n",
       "      <td>0.0</td>\n",
       "      <td>0.0</td>\n",
       "      <td>0.0</td>\n",
       "      <td>0.0</td>\n",
       "      <td>0.0</td>\n",
       "      <td>2015</td>\n",
       "      <td>abril</td>\n",
       "    </tr>\n",
       "    <tr>\n",
       "      <th>4</th>\n",
       "      <td>5</td>\n",
       "      <td>NaN</td>\n",
       "      <td>Aguilar Yagual Karla Mabel</td>\n",
       "      <td>Asistente</td>\n",
       "      <td>Losep</td>\n",
       "      <td>1.101511e+09</td>\n",
       "      <td>SP1</td>\n",
       "      <td>817.0</td>\n",
       "      <td>9804.0</td>\n",
       "      <td>0.0</td>\n",
       "      <td>0.0</td>\n",
       "      <td>0.0</td>\n",
       "      <td>0.0</td>\n",
       "      <td>0.0</td>\n",
       "      <td>2015</td>\n",
       "      <td>abril</td>\n",
       "    </tr>\n",
       "  </tbody>\n",
       "</table>\n",
       "</div>"
      ],
      "text/plain": [
       "   secuencial  identificacion                             nombre  \\\n",
       "0           1             NaN          Abad Dumas Hernan Rodrigo   \n",
       "1           2             NaN        Acosta Caicedo Dennis Josue   \n",
       "2           3             NaN  Acosta Hernandez Manuel  de Jesus   \n",
       "3           4             NaN         Aguayo Macias Maria Isabel   \n",
       "4           5             NaN         Aguilar Yagual Karla Mabel   \n",
       "\n",
       "              puesto      regimen  partida_presupuestaria grado_de_puesto  \\\n",
       "0           Soldador  COD_TRABAJO            1.111511e+09     COD_TRABAJO   \n",
       "1   Aseador de Calle  COD_TRABAJO            3.504711e+09     COD_TRABAJO   \n",
       "2   Aseador de Calle  COD_TRABAJO            3.504711e+09     COD_TRABAJO   \n",
       "3  Asistente Tecnico        LOSEP            1.106510e+09            SPA2   \n",
       "4          Asistente        Losep            1.101511e+09             SP1   \n",
       "\n",
       "   salario_mensual  salario_anual decimo_tercera decimo_cuarta  \\\n",
       "0            548.0         6576.0            0.0           0.0   \n",
       "1            420.0         5040.0            0.0           0.0   \n",
       "2            420.0         5040.0            0.0           0.0   \n",
       "3            622.0         7464.0            0.0           0.0   \n",
       "4            817.0         9804.0            0.0           0.0   \n",
       "\n",
       "  horas_suplementarias subrogaciones  total_ingresos_adicionales  anio    mes  \n",
       "0                  0.0           0.0                         0.0  2015  abril  \n",
       "1               460.39           0.0                         0.0  2015  abril  \n",
       "2                393.3           0.0                         0.0  2015  abril  \n",
       "3                  0.0           0.0                         0.0  2015  abril  \n",
       "4                  0.0           0.0                         0.0  2015  abril  "
      ]
     },
     "execution_count": 239,
     "metadata": {},
     "output_type": "execute_result"
    }
   ],
   "source": [
    "df_salarios.head()"
   ]
  },
  {
   "cell_type": "markdown",
   "id": "0da73cf7-1ab1-4414-845d-35dd7807b78c",
   "metadata": {},
   "source": [
    "## Limpieza de datos"
   ]
  },
  {
   "cell_type": "markdown",
   "id": "2b05a616-38d9-40bc-8a88-433427358a60",
   "metadata": {},
   "source": [
    "En un nuevo dataframe seleccionaremos los campos que nos interesan para nuestro análisis."
   ]
  },
  {
   "cell_type": "code",
   "execution_count": 240,
   "id": "b7b1722f-735a-4d76-90b6-d2aa3462a833",
   "metadata": {},
   "outputs": [
    {
     "data": {
      "text/html": [
       "<div>\n",
       "<style scoped>\n",
       "    .dataframe tbody tr th:only-of-type {\n",
       "        vertical-align: middle;\n",
       "    }\n",
       "\n",
       "    .dataframe tbody tr th {\n",
       "        vertical-align: top;\n",
       "    }\n",
       "\n",
       "    .dataframe thead th {\n",
       "        text-align: right;\n",
       "    }\n",
       "</style>\n",
       "<table border=\"1\" class=\"dataframe\">\n",
       "  <thead>\n",
       "    <tr style=\"text-align: right;\">\n",
       "      <th></th>\n",
       "      <th>nombre</th>\n",
       "      <th>puesto</th>\n",
       "      <th>salario_mensual</th>\n",
       "      <th>salario_anual</th>\n",
       "      <th>total_ingresos_adicionales</th>\n",
       "      <th>mes</th>\n",
       "      <th>anio</th>\n",
       "    </tr>\n",
       "  </thead>\n",
       "  <tbody>\n",
       "    <tr>\n",
       "      <th>0</th>\n",
       "      <td>Abad Dumas Hernan Rodrigo</td>\n",
       "      <td>Soldador</td>\n",
       "      <td>548.0</td>\n",
       "      <td>6576.0</td>\n",
       "      <td>0.0</td>\n",
       "      <td>abril</td>\n",
       "      <td>2015</td>\n",
       "    </tr>\n",
       "    <tr>\n",
       "      <th>1</th>\n",
       "      <td>Acosta Caicedo Dennis Josue</td>\n",
       "      <td>Aseador de Calle</td>\n",
       "      <td>420.0</td>\n",
       "      <td>5040.0</td>\n",
       "      <td>0.0</td>\n",
       "      <td>abril</td>\n",
       "      <td>2015</td>\n",
       "    </tr>\n",
       "    <tr>\n",
       "      <th>2</th>\n",
       "      <td>Acosta Hernandez Manuel  de Jesus</td>\n",
       "      <td>Aseador de Calle</td>\n",
       "      <td>420.0</td>\n",
       "      <td>5040.0</td>\n",
       "      <td>0.0</td>\n",
       "      <td>abril</td>\n",
       "      <td>2015</td>\n",
       "    </tr>\n",
       "    <tr>\n",
       "      <th>3</th>\n",
       "      <td>Aguayo Macias Maria Isabel</td>\n",
       "      <td>Asistente Tecnico</td>\n",
       "      <td>622.0</td>\n",
       "      <td>7464.0</td>\n",
       "      <td>0.0</td>\n",
       "      <td>abril</td>\n",
       "      <td>2015</td>\n",
       "    </tr>\n",
       "    <tr>\n",
       "      <th>4</th>\n",
       "      <td>Aguilar Yagual Karla Mabel</td>\n",
       "      <td>Asistente</td>\n",
       "      <td>817.0</td>\n",
       "      <td>9804.0</td>\n",
       "      <td>0.0</td>\n",
       "      <td>abril</td>\n",
       "      <td>2015</td>\n",
       "    </tr>\n",
       "  </tbody>\n",
       "</table>\n",
       "</div>"
      ],
      "text/plain": [
       "                              nombre             puesto  salario_mensual  \\\n",
       "0          Abad Dumas Hernan Rodrigo           Soldador            548.0   \n",
       "1        Acosta Caicedo Dennis Josue   Aseador de Calle            420.0   \n",
       "2  Acosta Hernandez Manuel  de Jesus   Aseador de Calle            420.0   \n",
       "3         Aguayo Macias Maria Isabel  Asistente Tecnico            622.0   \n",
       "4         Aguilar Yagual Karla Mabel          Asistente            817.0   \n",
       "\n",
       "   salario_anual  total_ingresos_adicionales    mes  anio  \n",
       "0         6576.0                         0.0  abril  2015  \n",
       "1         5040.0                         0.0  abril  2015  \n",
       "2         5040.0                         0.0  abril  2015  \n",
       "3         7464.0                         0.0  abril  2015  \n",
       "4         9804.0                         0.0  abril  2015  "
      ]
     },
     "execution_count": 240,
     "metadata": {},
     "output_type": "execute_result"
    }
   ],
   "source": [
    "df_salarios = df_salarios[['nombre', 'puesto', 'salario_mensual', 'salario_anual', 'total_ingresos_adicionales', 'mes', 'anio']]\n",
    "df_salarios.head()"
   ]
  },
  {
   "cell_type": "code",
   "execution_count": 241,
   "id": "822891b1-601a-4fa1-b401-72962294021f",
   "metadata": {},
   "outputs": [
    {
     "name": "stdout",
     "output_type": "stream",
     "text": [
      "<class 'pandas.core.frame.DataFrame'>\n",
      "RangeIndex: 87749 entries, 0 to 87748\n",
      "Data columns (total 7 columns):\n",
      " #   Column                      Non-Null Count  Dtype  \n",
      "---  ------                      --------------  -----  \n",
      " 0   nombre                      87749 non-null  object \n",
      " 1   puesto                      87749 non-null  object \n",
      " 2   salario_mensual             87749 non-null  float64\n",
      " 3   salario_anual               87749 non-null  float64\n",
      " 4   total_ingresos_adicionales  81098 non-null  float64\n",
      " 5   mes                         87749 non-null  object \n",
      " 6   anio                        87749 non-null  int64  \n",
      "dtypes: float64(3), int64(1), object(3)\n",
      "memory usage: 4.7+ MB\n"
     ]
    }
   ],
   "source": [
    "df_salarios.info()"
   ]
  },
  {
   "cell_type": "markdown",
   "id": "031b86c0-e8a1-4724-9786-85d833f70fad",
   "metadata": {},
   "source": [
    "Estandarizamos textos de campo puesto"
   ]
  },
  {
   "cell_type": "code",
   "execution_count": 242,
   "id": "301023b4-3b89-4300-8b0f-5738e24b849e",
   "metadata": {},
   "outputs": [],
   "source": [
    "df_salarios['puesto'] = df_salarios['puesto'].str.title()"
   ]
  },
  {
   "cell_type": "markdown",
   "id": "0c2c790f-1f57-4027-9745-6196f47748d8",
   "metadata": {},
   "source": [
    "Existen descripciones de puestos de trabajos que deberían unificarse."
   ]
  },
  {
   "cell_type": "code",
   "execution_count": 243,
   "id": "277d10fe-691d-42d1-af9d-8169c5a1780d",
   "metadata": {},
   "outputs": [
    {
     "data": {
      "text/plain": [
       "Abogada                            92\n",
       "Abogado                           188\n",
       "Administrador                     459\n",
       "Administrador  De Canchas          13\n",
       "Administrador De                   58\n",
       "Administrador De Canchas            3\n",
       "Administrador De Cementer           7\n",
       "Administradora (Cac)                4\n",
       "Administradora (Cau)                9\n",
       "Administradora Bi                  27\n",
       "Administradora Biblioteca          28\n",
       "Agente De Contro                  624\n",
       "Agente De Control               11905\n",
       "Aistente De Archiv                 21\n",
       "Albañil                           581\n",
       "Alcalde                            32\n",
       "Alcaldesa                          53\n",
       "Anal. Financiero                   25\n",
       "Analista                         1917\n",
       "Analista Comunicación Social        1\n",
       "Name: puesto, dtype: int64"
      ]
     },
     "execution_count": 243,
     "metadata": {},
     "output_type": "execute_result"
    }
   ],
   "source": [
    "df_salarios['puesto'].value_counts().sort_index().head(20)"
   ]
  },
  {
   "cell_type": "code",
   "execution_count": 244,
   "id": "e85eea03-2d7e-47d5-ac7f-52ed0e8412a8",
   "metadata": {},
   "outputs": [],
   "source": [
    "df_salarios['puesto'] = df_salarios['puesto'].replace('Abogada', 'Abogado')\n",
    "df_salarios['puesto'] = df_salarios['puesto'].replace('Administrador  De Canchas', 'Administrador')\n",
    "df_salarios['puesto'] = df_salarios['puesto'].replace('Administrador De', 'Administrador')\n",
    "df_salarios['puesto'] = df_salarios['puesto'].replace('Administrador De Canchas', 'Administrador')\n",
    "df_salarios['puesto'] = df_salarios['puesto'].replace('Administrador De Cementer', 'Administrador')\n",
    "df_salarios['puesto'] = df_salarios['puesto'].replace('Administradora (Cac)', 'Administrador')\n",
    "df_salarios['puesto'] = df_salarios['puesto'].replace('Administradora (Cau)', 'Administrador')\n",
    "df_salarios['puesto'] = df_salarios['puesto'].replace('Administradora Bi', 'Administrador')\n",
    "df_salarios['puesto'] = df_salarios['puesto'].replace('Administradora Biblioteca', 'Administrador')\n",
    "df_salarios['puesto'] = df_salarios['puesto'].replace('Agente De Contro', 'Agente De Control')\n",
    "df_salarios['puesto'] = df_salarios['puesto'].replace('Aistente De Archiv', 'Asistente')\n",
    "df_salarios['puesto'] = df_salarios['puesto'].replace('Alcaldesa', 'Alcalde')\n",
    "df_salarios['puesto'] = df_salarios['puesto'].replace('Anal. Financiero', 'Analista')\n",
    "df_salarios['puesto'] = df_salarios['puesto'].replace('Analista Comunicación Social', 'Analista')\n",
    "df_salarios['puesto'] = df_salarios['puesto'].replace('Analista Contable', 'Analista')\n",
    "df_salarios['puesto'] = df_salarios['puesto'].replace('Analista De Bienes', 'Analista')\n",
    "df_salarios['puesto'] = df_salarios['puesto'].replace('Analista De Compras', 'Analista')\n",
    "df_salarios['puesto'] = df_salarios['puesto'].replace('Analista De Comunicación S', 'Analista')\n",
    "df_salarios['puesto'] = df_salarios['puesto'].replace('Analista De Comunicación Social', 'Analista')\n",
    "df_salarios['puesto'] = df_salarios['puesto'].replace('Analista De Costo', 'Analista')\n",
    "df_salarios['puesto'] = df_salarios['puesto'].replace('Analista De Gestión', 'Analista')\n",
    "df_salarios['puesto'] = df_salarios['puesto'].replace('Analista De Resolu', 'Analista')\n",
    "df_salarios['puesto'] = df_salarios['puesto'].replace('Analista De Resoluciones', 'Analista')\n",
    "df_salarios['puesto'] = df_salarios['puesto'].replace('Analista De Seguri', 'Analista')\n",
    "df_salarios['puesto'] = df_salarios['puesto'].replace('Analista De Titulos Habilitan', 'Analista')\n",
    "df_salarios['puesto'] = df_salarios['puesto'].replace('Analista De Titulos Habilitantes', 'Analista')\n",
    "df_salarios['puesto'] = df_salarios['puesto'].replace('Analista Financier', 'Analista')\n",
    "df_salarios['puesto'] = df_salarios['puesto'].replace('Analista Financiero', 'Analista')\n",
    "df_salarios['puesto'] = df_salarios['puesto'].replace('Analista Juridico', 'Analista')\n",
    "df_salarios['puesto'] = df_salarios['puesto'].replace('Analista Legal', 'Analista')\n",
    "df_salarios['puesto'] = df_salarios['puesto'].replace('Analista Senior', 'Analista')\n",
    "df_salarios['puesto'] = df_salarios['puesto'].replace('Analista Tecnico', 'Analista')\n",
    "df_salarios['puesto'] = df_salarios['puesto'].replace('Analista Tecnico  D', 'Analista')\n",
    "df_salarios['puesto'] = df_salarios['puesto'].replace('Analista Tecnico  De Inspecc', 'Analista')\n",
    "df_salarios['puesto'] = df_salarios['puesto'].replace('Analista Tecnico  De Inspecciones', 'Analista')\n",
    "df_salarios['puesto'] = df_salarios['puesto'].replace('Analista Tecnico D', 'Analista')\n",
    "df_salarios['puesto'] = df_salarios['puesto'].replace('Analista Técnico', 'Analista')\n",
    "df_salarios['puesto'] = df_salarios['puesto'].replace('Analista Técnico D', 'Analista')\n",
    "df_salarios['puesto'] = df_salarios['puesto'].replace('Aseador De Calle', 'Analista')\n",
    "df_salarios['puesto'] = df_salarios['puesto'].replace('Asesor Legal', 'Asesor')\n",
    "df_salarios['puesto'] = df_salarios['puesto'].replace('Asesora Legal', 'Asesor')\n",
    "df_salarios['puesto'] = df_salarios['puesto'].replace('Asist. Adm.', 'Asistente')\n",
    "df_salarios['puesto'] = df_salarios['puesto'].replace('Asist. Edición De Videos', 'Asistente')\n",
    "df_salarios['puesto'] = df_salarios['puesto'].replace('Asistente  Administrativa', 'Asistente')\n",
    "df_salarios['puesto'] = df_salarios['puesto'].replace('Asistente 3', 'Asistente')\n",
    "df_salarios['puesto'] = df_salarios['puesto'].replace('Asistente Adminis', 'Asistente')\n",
    "df_salarios['puesto'] = df_salarios['puesto'].replace('Asistente Administ', 'Asistente')\n",
    "df_salarios['puesto'] = df_salarios['puesto'].replace('Asistente Administrativa', 'Asistente')\n",
    "df_salarios['puesto'] = df_salarios['puesto'].replace('Asistente Administrativo', 'Asistente')\n",
    "df_salarios['puesto'] = df_salarios['puesto'].replace('Asistente Archivo', 'Asistente')\n",
    "df_salarios['puesto'] = df_salarios['puesto'].replace('Asistente Bibliote', 'Asistente')\n",
    "df_salarios['puesto'] = df_salarios['puesto'].replace('Asistente Bibliotec', 'Asistente')\n",
    "df_salarios['puesto'] = df_salarios['puesto'].replace('Asistente Biblioteca', 'Asistente')\n",
    "df_salarios['puesto'] = df_salarios['puesto'].replace('Asistente Contabl', 'Asistente')\n",
    "df_salarios['puesto'] = df_salarios['puesto'].replace('Asistente Contable', 'Asistente')\n",
    "df_salarios['puesto'] = df_salarios['puesto'].replace('Asistente De Archi', 'Asistente')\n",
    "df_salarios['puesto'] = df_salarios['puesto'].replace('Asistente De Archivo', 'Asistente')\n",
    "df_salarios['puesto'] = df_salarios['puesto'].replace('Asistente De Contr', 'Asistente')\n",
    "df_salarios['puesto'] = df_salarios['puesto'].replace('Asistente De Control Previo', 'Asistente')\n",
    "df_salarios['puesto'] = df_salarios['puesto'].replace('Asistente De Despacho', 'Asistente')\n",
    "df_salarios['puesto'] = df_salarios['puesto'].replace('Asistente De Edició', 'Asistente')\n",
    "df_salarios['puesto'] = df_salarios['puesto'].replace('Asistente De Edición De Vide', 'Asistente')\n",
    "df_salarios['puesto'] = df_salarios['puesto'].replace('Asistente De Edición De Video', 'Asistente')\n",
    "df_salarios['puesto'] = df_salarios['puesto'].replace('Asistente De Proc', 'Asistente')\n",
    "df_salarios['puesto'] = df_salarios['puesto'].replace('Asistente De Procu', 'Asistente')\n",
    "df_salarios['puesto'] = df_salarios['puesto'].replace('Asistente De Procuraduría', 'Asistente')\n",
    "df_salarios['puesto'] = df_salarios['puesto'].replace('Asistente De Reda', 'Asistente')\n",
    "df_salarios['puesto'] = df_salarios['puesto'].replace('Asistente De Redacción', 'Asistente')\n",
    "df_salarios['puesto'] = df_salarios['puesto'].replace('Asistente De Segu', 'Asistente')\n",
    "df_salarios['puesto'] = df_salarios['puesto'].replace('Asistente De Segur', 'Asistente')\n",
    "df_salarios['puesto'] = df_salarios['puesto'].replace('Asistente De Servicios', 'Asistente')\n",
    "df_salarios['puesto'] = df_salarios['puesto'].replace('Asistente De Terapista', 'Asistente')\n",
    "df_salarios['puesto'] = df_salarios['puesto'].replace('Asistente De Topografo', 'Asistente')\n",
    "df_salarios['puesto'] = df_salarios['puesto'].replace('Asistente Tecnico', 'Asistente')\n",
    "df_salarios['puesto'] = df_salarios['puesto'].replace('Asistente Tecnico 1', 'Asistente')\n",
    "df_salarios['puesto'] = df_salarios['puesto'].replace('Asistente Técnico', 'Asistente')\n",
    "df_salarios['puesto'] = df_salarios['puesto'].replace('Asitente Administ', 'Asistente')\n",
    "df_salarios['puesto'] = df_salarios['puesto'].replace('Asitente Administr', 'Asistente')\n",
    "df_salarios['puesto'] = df_salarios['puesto'].replace('Atencion Al Usuari', 'Atención Al Usuario')\n",
    "df_salarios['puesto'] = df_salarios['puesto'].replace('Atencion Al Usuario', 'Atención Al Usuario')\n",
    "df_salarios['puesto'] = df_salarios['puesto'].replace('Atención Al Usuari', 'Atención Al Usuario')\n",
    "df_salarios['puesto'] = df_salarios['puesto'].replace('Aux. De Electricidad', 'Auxiliar')\n",
    "df_salarios['puesto'] = df_salarios['puesto'].replace('Aux. De Servicios', 'Auxiliar')\n",
    "df_salarios['puesto'] = df_salarios['puesto'].replace('Auxiliar Administr', 'Auxiliar')\n",
    "df_salarios['puesto'] = df_salarios['puesto'].replace('Auxiliar  De Servicios', 'Auxiliar')\n",
    "df_salarios['puesto'] = df_salarios['puesto'].replace('Auxiliar Administra', 'Auxiliar')\n",
    "df_salarios['puesto'] = df_salarios['puesto'].replace('Auxiliar Administrativo', 'Auxiliar')\n",
    "df_salarios['puesto'] = df_salarios['puesto'].replace('Auxiliar Contab', 'Auxiliar')\n",
    "df_salarios['puesto'] = df_salarios['puesto'].replace('Auxiliar Contable', 'Auxiliar')\n",
    "df_salarios['puesto'] = df_salarios['puesto'].replace('Auxiliar De Adquis', 'Auxiliar')\n",
    "df_salarios['puesto'] = df_salarios['puesto'].replace('Auxiliar De Adquisi', 'Auxiliar')\n",
    "df_salarios['puesto'] = df_salarios['puesto'].replace('Auxiliar De Adquisiciones', 'Auxiliar')\n",
    "df_salarios['puesto'] = df_salarios['puesto'].replace('Auxiliar De Archivo', 'Auxiliar')\n",
    "df_salarios['puesto'] = df_salarios['puesto'].replace('Auxiliar De Aseo', 'Auxiliar')\n",
    "df_salarios['puesto'] = df_salarios['puesto'].replace('Auxiliar De Bibliot', 'Auxiliar')\n",
    "df_salarios['puesto'] = df_salarios['puesto'].replace('Auxiliar De Bibliote', 'Auxiliar')\n",
    "df_salarios['puesto'] = df_salarios['puesto'].replace('Auxiliar De Biblioteca', 'Auxiliar')\n",
    "df_salarios['puesto'] = df_salarios['puesto'].replace('Auxiliar De Campo', 'Auxiliar')\n",
    "df_salarios['puesto'] = df_salarios['puesto'].replace('Auxiliar De Electricidad', 'Auxiliar')\n",
    "df_salarios['puesto'] = df_salarios['puesto'].replace('Auxiliar De Enferm', 'Auxiliar')\n",
    "df_salarios['puesto'] = df_salarios['puesto'].replace('Auxiliar De Mantenimiento', 'Auxiliar')\n",
    "df_salarios['puesto'] = df_salarios['puesto'].replace('Auxiliar De Mensajeria', 'Auxiliar')\n",
    "df_salarios['puesto'] = df_salarios['puesto'].replace('Auxiliar De Servici', 'Auxiliar')\n",
    "df_salarios['puesto'] = df_salarios['puesto'].replace('Auxiliar De Servicio', 'Auxiliar')\n",
    "df_salarios['puesto'] = df_salarios['puesto'].replace('Auxiliar De Servicios', 'Auxiliar')\n",
    "df_salarios['puesto'] = df_salarios['puesto'].replace('Auxiliar De Supervisión', 'Auxiliar')\n",
    "df_salarios['puesto'] = df_salarios['puesto'].replace('Auxiliar De Talleres', 'Auxiliar')\n",
    "df_salarios['puesto'] = df_salarios['puesto'].replace('Auxiliar Medico', 'Auxiliar')\n",
    "df_salarios['puesto'] = df_salarios['puesto'].replace('Auxliar', 'Auxiliar')\n",
    "df_salarios['puesto'] = df_salarios['puesto'].replace('Aux. Serv. Municipales', 'Auxiliar')\n",
    "df_salarios['puesto'] = df_salarios['puesto'].replace('Aux.Serv.Munic.', 'Auxiliar')\n",
    "df_salarios['puesto'] = df_salarios['puesto'].replace('Ayud. De Albañil', 'Ayudante')\n",
    "df_salarios['puesto'] = df_salarios['puesto'].replace('Ayud. De Soldador', 'Ayudante')\n",
    "df_salarios['puesto'] = df_salarios['puesto'].replace('Ayud. De Tanquer', 'Ayudante')\n",
    "df_salarios['puesto'] = df_salarios['puesto'].replace('Ayud. De Tanquero', 'Ayudante')\n",
    "df_salarios['puesto'] = df_salarios['puesto'].replace('Ayudante De Mecanica', 'Ayudante')\n",
    "df_salarios['puesto'] = df_salarios['puesto'].replace('Ayudante De Tanq ', 'Ayudante')\n",
    "df_salarios['puesto'] = df_salarios['puesto'].replace('Ayudante De Topografo', 'Ayudante')\n",
    "df_salarios['puesto'] = df_salarios['puesto'].replace('Ayudante De Tanq', 'Ayudante')\n",
    "df_salarios['puesto'] = df_salarios['puesto'].replace('Cajera', 'Cajero')\n",
    "df_salarios['puesto'] = df_salarios['puesto'].replace('Chofer', 'Conductor')\n",
    "df_salarios['puesto'] = df_salarios['puesto'].replace('Chofer - Maquinaria Pesada', 'Conductor')\n",
    "df_salarios['puesto'] = df_salarios['puesto'].replace('Chofer De Tanque', 'Conductor')\n",
    "df_salarios['puesto'] = df_salarios['puesto'].replace('Chofer De Tanquer', 'Conductor')\n",
    "df_salarios['puesto'] = df_salarios['puesto'].replace('Chofer De Tanquero', 'Conductor')\n",
    "df_salarios['puesto'] = df_salarios['puesto'].replace('Chofer Electricistas', 'Conductor')\n",
    "df_salarios['puesto'] = df_salarios['puesto'].replace('Chofer Tanquero', 'Conductor')\n",
    "df_salarios['puesto'] = df_salarios['puesto'].replace('Chofer-Maquinaria Pesada', 'Conductor')\n",
    "df_salarios['puesto'] = df_salarios['puesto'].replace('Conductor De Bobcat', 'Conductor')\n",
    "df_salarios['puesto'] = df_salarios['puesto'].replace('Conductor De Maq', 'Conductor')\n",
    "df_salarios['puesto'] = df_salarios['puesto'].replace('Conductor De Maquinaria P', 'Conductor')\n",
    "df_salarios['puesto'] = df_salarios['puesto'].replace('Conductor De Maquinaria Pesada', 'Conductor')\n",
    "df_salarios['puesto'] = df_salarios['puesto'].replace('Conductor De Vehi', 'Conductor')\n",
    "df_salarios['puesto'] = df_salarios['puesto'].replace('Conductor De Vehiculo Pesa', 'Conductor')\n",
    "df_salarios['puesto'] = df_salarios['puesto'].replace('Conductor De Volq', 'Conductor')\n",
    "df_salarios['puesto'] = df_salarios['puesto'].replace('Conductor De Volqueta', 'Conductor')\n",
    "df_salarios['puesto'] = df_salarios['puesto'].replace('Conductor De Veh', 'Conductor')\n",
    "df_salarios['puesto'] = df_salarios['puesto'].replace('Concejales', 'Concejal')\n",
    "df_salarios['puesto'] = df_salarios['puesto'].replace('Coordinación De D', 'Coordinador')\n",
    "df_salarios['puesto'] = df_salarios['puesto'].replace('Coordinación De Despacho', 'Coordinador')\n",
    "df_salarios['puesto'] = df_salarios['puesto'].replace('Coordinador De D', 'Coordinador')\n",
    "df_salarios['puesto'] = df_salarios['puesto'].replace('Coordinador De De', 'Coordinador')\n",
    "df_salarios['puesto'] = df_salarios['puesto'].replace('Coordinador De Delegado', 'Coordinador')\n",
    "df_salarios['puesto'] = df_salarios['puesto'].replace('Coordinador Gene', 'Coordinador')\n",
    "df_salarios['puesto'] = df_salarios['puesto'].replace('Coordinador General', 'Coordinador')\n",
    "df_salarios['puesto'] = df_salarios['puesto'].replace('Coordinadora De D', 'Coordinador')\n",
    "df_salarios['puesto'] = df_salarios['puesto'].replace('Coordinadora De Despacho', 'Coordinador')\n",
    "df_salarios['puesto'] = df_salarios['puesto'].replace('Custodia De Archi', 'Custodio')\n",
    "df_salarios['puesto'] = df_salarios['puesto'].replace('Custodia De Archiv', 'Custodio')\n",
    "df_salarios['puesto'] = df_salarios['puesto'].replace('Custodia De Archivo', 'Custodio')\n",
    "df_salarios['puesto'] = df_salarios['puesto'].replace('Custodio De Alcald', 'Custodio')\n",
    "df_salarios['puesto'] = df_salarios['puesto'].replace('Delegada', 'Delegado')\n",
    "df_salarios['puesto'] = df_salarios['puesto'].replace('Desapachador De Materiales', 'Despachador De Materiales')\n",
    "df_salarios['puesto'] = df_salarios['puesto'].replace('Despachador De M', 'Despachador De Materiales')\n",
    "df_salarios['puesto'] = df_salarios['puesto'].replace('Director ( E)', 'Director')\n",
    "df_salarios['puesto'] = df_salarios['puesto'].replace('Director General', 'Director')\n",
    "df_salarios['puesto'] = df_salarios['puesto'].replace('Director General (', 'Director')\n",
    "df_salarios['puesto'] = df_salarios['puesto'].replace('Director General ( E )', 'Director')\n",
    "df_salarios['puesto'] = df_salarios['puesto'].replace('Director General ( E)', 'Director')\n",
    "df_salarios['puesto'] = df_salarios['puesto'].replace('Directora', 'Director')\n",
    "df_salarios['puesto'] = df_salarios['puesto'].replace('Doctora', 'Doctor')\n",
    "df_salarios['puesto'] = df_salarios['puesto'].replace('Electrecista', 'Electricista')\n",
    "df_salarios['puesto'] = df_salarios['puesto'].replace('Encargada Del Are', 'Encargada Del Area')\n",
    "df_salarios['puesto'] = df_salarios['puesto'].replace('Encargada Del Area Del Gis', 'Encargada Del Area')\n",
    "df_salarios['puesto'] = df_salarios['puesto'].replace('Facilitador De Ate', 'Facilitador')\n",
    "df_salarios['puesto'] = df_salarios['puesto'].replace('Facilitador De Aten', 'Facilitador')\n",
    "df_salarios['puesto'] = df_salarios['puesto'].replace('Facilitador Recrea', 'Facilitador')\n",
    "df_salarios['puesto'] = df_salarios['puesto'].replace('Facilitador Recreac', 'Facilitador')\n",
    "df_salarios['puesto'] = df_salarios['puesto'].replace('Facilitadores De At', 'Facilitador')\n",
    "df_salarios['puesto'] = df_salarios['puesto'].replace('Facilitadores De Atención Pr', 'Facilitador')\n",
    "df_salarios['puesto'] = df_salarios['puesto'].replace('Facilitadores De Atención Prioritaria', 'Facilitador')\n",
    "df_salarios['puesto'] = df_salarios['puesto'].replace('Fiscalizador De Ob', 'Fiscalizador')\n",
    "df_salarios['puesto'] = df_salarios['puesto'].replace('Fizcalizador', 'Fiscalizador')\n",
    "df_salarios['puesto'] = df_salarios['puesto'].replace('Gestor Cultural', 'Gestor')\n",
    "df_salarios['puesto'] = df_salarios['puesto'].replace('Gestor De Atenció', 'Gestor')\n",
    "df_salarios['puesto'] = df_salarios['puesto'].replace('Gestor De Cultura', 'Gestor')\n",
    "df_salarios['puesto'] = df_salarios['puesto'].replace('Gestora De Atenci', 'Gestor')\n",
    "df_salarios['puesto'] = df_salarios['puesto'].replace('Gestora De Atención Priorita', 'Gestor')\n",
    "df_salarios['puesto'] = df_salarios['puesto'].replace('Gestora De Atención Prioritaria', 'Gestor')\n",
    "df_salarios['puesto'] = df_salarios['puesto'].replace('Guardian Sindicali', 'Guardian Sindicalizado')\n",
    "df_salarios['puesto'] = df_salarios['puesto'].replace('Inspector  Soldador', 'Inspector')\n",
    "df_salarios['puesto'] = df_salarios['puesto'].replace('Inspector De Higie', 'Inspector')\n",
    "df_salarios['puesto'] = df_salarios['puesto'].replace('Inspector De Higiene Y Aseo', 'Inspector')\n",
    "df_salarios['puesto'] = df_salarios['puesto'].replace('Inspector De Rentas', 'Inspector')\n",
    "df_salarios['puesto'] = df_salarios['puesto'].replace('Jefa', 'Jefe')\n",
    "df_salarios['puesto'] = df_salarios['puesto'].replace('Jefe Aseo De Calle', 'Jefe')\n",
    "df_salarios['puesto'] = df_salarios['puesto'].replace('Jefe Aseo De Calles', 'Jefe')\n",
    "df_salarios['puesto'] = df_salarios['puesto'].replace('Jefe De Adquisicio', 'Jefe')\n",
    "df_salarios['puesto'] = df_salarios['puesto'].replace('Jefe De Agente De', 'Jefe')\n",
    "df_salarios['puesto'] = df_salarios['puesto'].replace('Jefe De Agentes De', 'Jefe')\n",
    "df_salarios['puesto'] = df_salarios['puesto'].replace('Jefe De Alcantarillado', 'Jefe')\n",
    "df_salarios['puesto'] = df_salarios['puesto'].replace('Jefe De Aseo Cant', 'Jefe')\n",
    "df_salarios['puesto'] = df_salarios['puesto'].replace('Jefe De Aseo Canto', 'Jefe')\n",
    "df_salarios['puesto'] = df_salarios['puesto'].replace('Jefe De Base De Da', 'Jefe')\n",
    "df_salarios['puesto'] = df_salarios['puesto'].replace('Jefe De Cau', 'Jefe')\n",
    "df_salarios['puesto'] = df_salarios['puesto'].replace('Jefe De Contabilidad Contador', 'Jefe')\n",
    "df_salarios['puesto'] = df_salarios['puesto'].replace('Jefe De Contabilidad/Contador', 'Jefe')\n",
    "df_salarios['puesto'] = df_salarios['puesto'].replace('Jefe De Delegados', 'Jefe')\n",
    "df_salarios['puesto'] = df_salarios['puesto'].replace('Jefe De Desarrollo', 'Jefe')\n",
    "df_salarios['puesto'] = df_salarios['puesto'].replace('Jefe De Fiscalización', 'Jefe')\n",
    "df_salarios['puesto'] = df_salarios['puesto'].replace('Jefe De Fiscalizado', 'Jefe')\n",
    "df_salarios['puesto'] = df_salarios['puesto'].replace('Jefe De Gestión Int', 'Jefe')\n",
    "df_salarios['puesto'] = df_salarios['puesto'].replace('Jefe De Mantenim', 'Jefe')\n",
    "df_salarios['puesto'] = df_salarios['puesto'].replace('Jefe De Mantenimi', 'Jefe')\n",
    "df_salarios['puesto'] = df_salarios['puesto'].replace('Jefe De Policia Mu', 'Jefe')\n",
    "df_salarios['puesto'] = df_salarios['puesto'].replace('Jefe De Prensa', 'Jefe')\n",
    "df_salarios['puesto'] = df_salarios['puesto'].replace('Jefe De Proyectos', 'Jefe')\n",
    "df_salarios['puesto'] = df_salarios['puesto'].replace('Jefe De Rentas ( E)', 'Jefe')\n",
    "df_salarios['puesto'] = df_salarios['puesto'].replace('Jefe De Seguridad', 'Jefe')\n",
    "df_salarios['puesto'] = df_salarios['puesto'].replace('Jefe De Topografia', 'Jefe')\n",
    "df_salarios['puesto'] = df_salarios['puesto'].replace('Jefe Fiscalizadores', 'Jefe')\n",
    "df_salarios['puesto'] = df_salarios['puesto'].replace('Jefe Mantenimiento', 'Jefe')\n",
    "df_salarios['puesto'] = df_salarios['puesto'].replace('Juez ( E)', 'Juez')\n",
    "df_salarios['puesto'] = df_salarios['puesto'].replace('Juez Primero', 'Juez')\n",
    "df_salarios['puesto'] = df_salarios['puesto'].replace('Mecanico Automo', 'Mecanico')\n",
    "df_salarios['puesto'] = df_salarios['puesto'].replace('Mecanico Automotriz', 'Mecanico')\n",
    "df_salarios['puesto'] = df_salarios['puesto'].replace('Mecanico- Equipo', 'Mecanico')\n",
    "df_salarios['puesto'] = df_salarios['puesto'].replace('Mecanico- Equipo Pesado', 'Mecanico')\n",
    "df_salarios['puesto'] = df_salarios['puesto'].replace('Medico Veterinari', 'Medico Veterinario')\n",
    "df_salarios['puesto'] = df_salarios['puesto'].replace('Médico Ocupacional', 'Medico')\n",
    "df_salarios['puesto'] = df_salarios['puesto'].replace('Miembro Principa', 'Miembro Principal')\n",
    "df_salarios['puesto'] = df_salarios['puesto'].replace('Obrera', 'Obrero')\n",
    "df_salarios['puesto'] = df_salarios['puesto'].replace('Oper.Retroexcava', 'Operador')\n",
    "df_salarios['puesto'] = df_salarios['puesto'].replace('Oper.Retroexcavad', 'Operador')\n",
    "df_salarios['puesto'] = df_salarios['puesto'].replace('Oper.Retroexcavadora', 'Operador')\n",
    "df_salarios['puesto'] = df_salarios['puesto'].replace('Operador De Maq', 'Operador')\n",
    "df_salarios['puesto'] = df_salarios['puesto'].replace('Operador De Maqu', 'Operador')\n",
    "df_salarios['puesto'] = df_salarios['puesto'].replace('Operador De Maquinaria', 'Operador')\n",
    "df_salarios['puesto'] = df_salarios['puesto'].replace('Operador De Maquinaria Pe', 'Operador')\n",
    "df_salarios['puesto'] = df_salarios['puesto'].replace('Operador De Maquinaria Pesada', 'Operador')\n",
    "df_salarios['puesto'] = df_salarios['puesto'].replace('Operador De Re', 'Operador')\n",
    "df_salarios['puesto'] = df_salarios['puesto'].replace('Operador De Ret', 'Operador')\n",
    "df_salarios['puesto'] = df_salarios['puesto'].replace('Operador De Retr', 'Operador')\n",
    "df_salarios['puesto'] = df_salarios['puesto'].replace('Operador De Retro', 'Operador')\n",
    "df_salarios['puesto'] = df_salarios['puesto'].replace('Operador De Retroexca', 'Operador')\n",
    "df_salarios['puesto'] = df_salarios['puesto'].replace('Operador De Retroexcabadora', 'Operador')\n",
    "df_salarios['puesto'] = df_salarios['puesto'].replace('Operador De Retroexcavado', 'Operador')\n",
    "df_salarios['puesto'] = df_salarios['puesto'].replace('Operador De Retroexcavadora', 'Operador')\n",
    "df_salarios['puesto'] = df_salarios['puesto'].replace('Operador De Vehi', 'Operador')\n",
    "df_salarios['puesto'] = df_salarios['puesto'].replace('Operador De Vehic', 'Operador')\n",
    "df_salarios['puesto'] = df_salarios['puesto'].replace('Operador Maquina Exca', 'Operador')\n",
    "df_salarios['puesto'] = df_salarios['puesto'].replace('Operador Maquina Excavadora', 'Operador')\n",
    "df_salarios['puesto'] = df_salarios['puesto'].replace('Operador Maquinaria', 'Operador')\n",
    "df_salarios['puesto'] = df_salarios['puesto'].replace('Operador Retroexcavad', 'Operador')\n",
    "df_salarios['puesto'] = df_salarios['puesto'].replace('Operador Rodillo', 'Operador')\n",
    "df_salarios['puesto'] = df_salarios['puesto'].replace('Operador Retroexcavadora', 'Operador')\n",
    "df_salarios['puesto'] = df_salarios['puesto'].replace('Policia Municip', 'Policia Municipal')\n",
    "df_salarios['puesto'] = df_salarios['puesto'].replace('Policia Municipa', 'Policia Municipal')\n",
    "df_salarios['puesto'] = df_salarios['puesto'].replace('Procurador Sindic', 'Procurador Sindico')\n",
    "df_salarios['puesto'] = df_salarios['puesto'].replace('Promotora Social', 'Promotor Social')\n",
    "df_salarios['puesto'] = df_salarios['puesto'].replace('Pro-Secretaria', 'Prosecretario')\n",
    "df_salarios['puesto'] = df_salarios['puesto'].replace('Prosecretaria', 'Prosecretario')\n",
    "df_salarios['puesto'] = df_salarios['puesto'].replace('Recibidor De Mate', 'Recibidor De Materiales')\n",
    "df_salarios['puesto'] = df_salarios['puesto'].replace('Responsable De Bienes', 'Responsable')\n",
    "df_salarios['puesto'] = df_salarios['puesto'].replace('Responsable De Deporte Y Recreación', 'Responsable')\n",
    "df_salarios['puesto'] = df_salarios['puesto'].replace('Responsable De Eq', 'Responsable')\n",
    "df_salarios['puesto'] = df_salarios['puesto'].replace('Responsable De Lo', 'Responsable')\n",
    "df_salarios['puesto'] = df_salarios['puesto'].replace('Responsable De Nomina', 'Responsable')\n",
    "df_salarios['puesto'] = df_salarios['puesto'].replace('Responsable De Parque Automotor', 'Responsable')\n",
    "df_salarios['puesto'] = df_salarios['puesto'].replace('Responsable De To', 'Responsable')\n",
    "df_salarios['puesto'] = df_salarios['puesto'].replace('Responsable De Topografia', 'Responsable')\n",
    "df_salarios['puesto'] = df_salarios['puesto'].replace('Responsable Del Proceso De Legalización', 'Responsable')\n",
    "df_salarios['puesto'] = df_salarios['puesto'].replace('Secretaria', 'Secretario')\n",
    "df_salarios['puesto'] = df_salarios['puesto'].replace('Secretaria De Despacho', 'Secretario')\n",
    "df_salarios['puesto'] = df_salarios['puesto'].replace('Secretario De Com', 'Secretario')\n",
    "df_salarios['puesto'] = df_salarios['puesto'].replace('Secretario De Comisaria', 'Secretario')\n",
    "df_salarios['puesto'] = df_salarios['puesto'].replace('Secretario De Reso', 'Secretario')\n",
    "df_salarios['puesto'] = df_salarios['puesto'].replace('Secretario De Resoluciones', 'Secretario')\n",
    "df_salarios['puesto'] = df_salarios['puesto'].replace('Secretario Ejecutivo Del Consejo De Seg', 'Secretario')\n",
    "df_salarios['puesto'] = df_salarios['puesto'].replace('Secretario Genera', 'Secretario')\n",
    "df_salarios['puesto'] = df_salarios['puesto'].replace('Secretario General', 'Secretario')\n",
    "df_salarios['puesto'] = df_salarios['puesto'].replace('Servicios Generale', 'Servicios Generales')\n",
    "df_salarios['puesto'] = df_salarios['puesto'].replace('Subprocurador Sin', 'Subprocurador')\n",
    "df_salarios['puesto'] = df_salarios['puesto'].replace('Supervisor De Area', 'Supervisor')\n",
    "df_salarios['puesto'] = df_salarios['puesto'].replace('Supervisor De Aseo De Calle', 'Supervisor')\n",
    "df_salarios['puesto'] = df_salarios['puesto'].replace('Supervisor De Caja', 'Supervisor')\n",
    "df_salarios['puesto'] = df_salarios['puesto'].replace('Supervisor De Cam', 'Supervisor')\n",
    "df_salarios['puesto'] = df_salarios['puesto'].replace('Supervisor De Campo', 'Supervisor')\n",
    "df_salarios['puesto'] = df_salarios['puesto'].replace('Supervisor De Cantera', 'Supervisor')\n",
    "df_salarios['puesto'] = df_salarios['puesto'].replace('Supervisor De Cus', 'Supervisor')\n",
    "df_salarios['puesto'] = df_salarios['puesto'].replace('Supervisor De Cust', 'Supervisor')\n",
    "df_salarios['puesto'] = df_salarios['puesto'].replace('Supervisor De Custodio Mun', 'Supervisor')\n",
    "df_salarios['puesto'] = df_salarios['puesto'].replace('Supervisor De Custodio Municipal', 'Supervisor')\n",
    "df_salarios['puesto'] = df_salarios['puesto'].replace('Supervisor De Del', 'Supervisor')\n",
    "df_salarios['puesto'] = df_salarios['puesto'].replace('Supervisor De Dele', 'Supervisor')\n",
    "df_salarios['puesto'] = df_salarios['puesto'].replace('Supervisor De Delg', 'Supervisor')\n",
    "df_salarios['puesto'] = df_salarios['puesto'].replace('Supervisor De Delgados', 'Supervisor')\n",
    "df_salarios['puesto'] = df_salarios['puesto'].replace('Supervisor De Jardineria', 'Supervisor')\n",
    "df_salarios['puesto'] = df_salarios['puesto'].replace('Supervisor De Mercados', 'Supervisor')\n",
    "df_salarios['puesto'] = df_salarios['puesto'].replace('Supervisor De Policia Munici', 'Supervisor')\n",
    "df_salarios['puesto'] = df_salarios['puesto'].replace('Supervisor De Policia Municipal', 'Supervisor')\n",
    "df_salarios['puesto'] = df_salarios['puesto'].replace('Supervisor De Soldadores', 'Supervisor')\n",
    "df_salarios['puesto'] = df_salarios['puesto'].replace('Supervisor De Tall', 'Supervisor')\n",
    "df_salarios['puesto'] = df_salarios['puesto'].replace('Supervisor De Reh', 'Supervisor')\n",
    "df_salarios['puesto'] = df_salarios['puesto'].replace('Supervisor De Talle', 'Supervisor')\n",
    "df_salarios['puesto'] = df_salarios['puesto'].replace('Supervisor Electrico', 'Supervisor')\n",
    "df_salarios['puesto'] = df_salarios['puesto'].replace('Supervisor Equipo Caminero', 'Supervisor')\n",
    "df_salarios['puesto'] = df_salarios['puesto'].replace('Supervisor Genera', 'Supervisor')\n",
    "df_salarios['puesto'] = df_salarios['puesto'].replace('Supervisor Grupo', 'Supervisor')\n",
    "df_salarios['puesto'] = df_salarios['puesto'].replace('Supervisor Grupo Noche', 'Supervisor')\n",
    "df_salarios['puesto'] = df_salarios['puesto'].replace('Supervisor Mun', 'Supervisor')\n",
    "df_salarios['puesto'] = df_salarios['puesto'].replace('Supervisor Munici', 'Supervisor')\n",
    "df_salarios['puesto'] = df_salarios['puesto'].replace('Supervisor Municipal', 'Supervisor')\n",
    "df_salarios['puesto'] = df_salarios['puesto'].replace('Supervisor Policia', 'Supervisor')\n",
    "df_salarios['puesto'] = df_salarios['puesto'].replace('Supervisor Policia Municipal', 'Supervisor')\n",
    "df_salarios['puesto'] = df_salarios['puesto'].replace('Supervisor Tecnico', 'Supervisor')\n",
    "df_salarios['puesto'] = df_salarios['puesto'].replace('Supervisora', 'Supervisor')\n",
    "df_salarios['puesto'] = df_salarios['puesto'].replace('Supervisora De Ca', 'Supervisor')\n",
    "df_salarios['puesto'] = df_salarios['puesto'].replace('Supervisora De Caj', 'Supervisor')\n",
    "df_salarios['puesto'] = df_salarios['puesto'].replace('Supervisora De Caja', 'Supervisor')\n",
    "df_salarios['puesto'] = df_salarios['puesto'].replace('Tecnica De Promocion Y Marketing', 'Técnico')\n",
    "df_salarios['puesto'] = df_salarios['puesto'].replace('Tecnica De Promoción Y Marketing', 'Técnico')\n",
    "df_salarios['puesto'] = df_salarios['puesto'].replace('Tecnico', 'Técnico')\n",
    "df_salarios['puesto'] = df_salarios['puesto'].replace('Tecnico  De Inspecciones', 'Técnico')\n",
    "df_salarios['puesto'] = df_salarios['puesto'].replace('Tecnico  De Regulación Y Control', 'Técnico')\n",
    "df_salarios['puesto'] = df_salarios['puesto'].replace('Tecnico De Avaluo', 'Técnico')\n",
    "df_salarios['puesto'] = df_salarios['puesto'].replace('Tecnico De Imagen', 'Técnico')\n",
    "df_salarios['puesto'] = df_salarios['puesto'].replace('Tecnico De Imagen Institucio', 'Técnico')\n",
    "df_salarios['puesto'] = df_salarios['puesto'].replace('Tecnico De Imagen Institucional', 'Técnico')\n",
    "df_salarios['puesto'] = df_salarios['puesto'].replace('Tecnico De Regulación Y Control', 'Técnico')\n",
    "df_salarios['puesto'] = df_salarios['puesto'].replace('Tecnico De Soport', 'Técnico')\n",
    "df_salarios['puesto'] = df_salarios['puesto'].replace('Tecnico De Soporte', 'Técnico')\n",
    "df_salarios['puesto'] = df_salarios['puesto'].replace('Tecnico Deportivo', 'Técnico')\n",
    "df_salarios['puesto'] = df_salarios['puesto'].replace('Tecnico En Image', 'Técnico')\n",
    "df_salarios['puesto'] = df_salarios['puesto'].replace('Tecnico En Imagen', 'Técnico')\n",
    "df_salarios['puesto'] = df_salarios['puesto'].replace('Tecnico En Relaciones Públicas', 'Técnico')\n",
    "df_salarios['puesto'] = df_salarios['puesto'].replace('Tecnico En Sistem', 'Técnico')\n",
    "df_salarios['puesto'] = df_salarios['puesto'].replace('Tenico', 'Técnico')\n",
    "df_salarios['puesto'] = df_salarios['puesto'].replace('Técnica', 'Técnico')\n",
    "df_salarios['puesto'] = df_salarios['puesto'].replace('Técnico De Digitali', 'Técnico')\n",
    "df_salarios['puesto'] = df_salarios['puesto'].replace('Técnico De Legaliz', 'Técnico')\n",
    "df_salarios['puesto'] = df_salarios['puesto'].replace('Técnico De Legaliza', 'Técnico')\n",
    "df_salarios['puesto'] = df_salarios['puesto'].replace('Técnico De Legalización', 'Técnico')\n",
    "df_salarios['puesto'] = df_salarios['puesto'].replace('Técnico Digitalizad', 'Técnico')\n",
    "df_salarios['puesto'] = df_salarios['puesto'].replace('Técnico Digitalizador', 'Técnico')\n",
    "df_salarios['puesto'] = df_salarios['puesto'].replace('Técnico En Sistem', 'Técnico')\n",
    "df_salarios['puesto'] = df_salarios['puesto'].replace('Técnico En Sistemas Inform', 'Técnico')\n",
    "df_salarios['puesto'] = df_salarios['puesto'].replace('Técnico En Sistemas Informaticos', 'Técnico')\n",
    "df_salarios['puesto'] = df_salarios['puesto'].replace('Topografo', 'Topógrafo')\n",
    "df_salarios['puesto'] = df_salarios['puesto'].replace('Topográfo', 'Topógrafo')\n",
    "df_salarios['puesto'] = df_salarios['puesto'].replace('Topográfo 2', 'Topógrafo')\n",
    "df_salarios['puesto'] = df_salarios['puesto'].replace('Topógrafo 2', 'Topógrafo')\n",
    "df_salarios['puesto'] = df_salarios['puesto'].replace('Topógrafo 3', 'Topógrafo')\n",
    "df_salarios['puesto'] = df_salarios['puesto'].replace('Trabajadora  Social', 'Trabajador Social')\n",
    "df_salarios['puesto'] = df_salarios['puesto'].replace('Trabajadora Socia', 'Trabajador Social')\n",
    "df_salarios['puesto'] = df_salarios['puesto'].replace('Trabajadora Social', 'Trabajador Social')\n",
    "df_salarios['puesto'] = df_salarios['puesto'].replace('Terapista De Equin', 'Terapista Hipoterapia')\n",
    "df_salarios['puesto'] = df_salarios['puesto'].replace('Terapista Hipotera', 'Terapista Hipoterapia')\n",
    "df_salarios['puesto'] = df_salarios['puesto'].replace('Veterinaria', 'Medico Veterinario')\n",
    "df_salarios['puesto'] = df_salarios['puesto'].replace('Veterinario', 'Medico Veterinario')"
   ]
  },
  {
   "cell_type": "code",
   "execution_count": 245,
   "id": "63a45d99-e1bc-4f3a-910e-fbae9a09c172",
   "metadata": {},
   "outputs": [
    {
     "data": {
      "text/plain": [
       "Abogado                           280\n",
       "Administrador                     608\n",
       "Agente De Control               12529\n",
       "Albañil                           581\n",
       "Alcalde                            85\n",
       "Analista                         9102\n",
       "Apoyo De Supervisor De Obras        9\n",
       "Aseador De Calles                8333\n",
       "Asesor                            227\n",
       "Asistente                        8619\n",
       "Atención Al Usuario               418\n",
       "Auxiliar                         7593\n",
       "Ayudante                          180\n",
       "Name: puesto, dtype: int64"
      ]
     },
     "execution_count": 245,
     "metadata": {},
     "output_type": "execute_result"
    }
   ],
   "source": [
    "df_salarios[df_salarios['puesto'].str.startswith('A')]['puesto'].value_counts().sort_index().head(60)"
   ]
  },
  {
   "cell_type": "markdown",
   "id": "1e25f3cb-2add-43d5-be4f-858263a6a28d",
   "metadata": {},
   "source": [
    "## Un poco de análisis..."
   ]
  },
  {
   "cell_type": "markdown",
   "id": "dd986fe1-c899-4086-9174-752bcdc008ba",
   "metadata": {},
   "source": [
    "### ¿Cuál es el promedio de salarios mensuales?"
   ]
  },
  {
   "cell_type": "code",
   "execution_count": 246,
   "id": "70b9729e-b7dc-46bc-9126-f30e234ccdc8",
   "metadata": {},
   "outputs": [
    {
     "name": "stdout",
     "output_type": "stream",
     "text": [
      "El promedio de salario mensual es: 775.06\n"
     ]
    }
   ],
   "source": [
    "print(f'El promedio de salario mensual es: {df_salarios[\"salario_mensual\"].mean():.2f}')"
   ]
  },
  {
   "cell_type": "markdown",
   "id": "93b08f82-a265-465d-bae0-b95d08325871",
   "metadata": {},
   "source": [
    "### ¿Cuál es la cantidad más alta de salario mensual en el conjunto de datos?"
   ]
  },
  {
   "cell_type": "code",
   "execution_count": 247,
   "id": "b9ecfb65-9255-4e57-8864-cc452db44440",
   "metadata": {},
   "outputs": [
    {
     "name": "stdout",
     "output_type": "stream",
     "text": [
      "El salario mensual más alto es: 6122.00\n"
     ]
    }
   ],
   "source": [
    "print(f'El salario mensual más alto es: {df_salarios[\"salario_mensual\"].max():.2f}')"
   ]
  },
  {
   "cell_type": "markdown",
   "id": "67ae2803-3fa0-465a-bf1d-dedca4d0e346",
   "metadata": {},
   "source": [
    "### ¿Cúal es la cantidad más baja de salario mensual?"
   ]
  },
  {
   "cell_type": "code",
   "execution_count": 253,
   "id": "d61668b2-3495-4c7d-9499-779cf4825789",
   "metadata": {},
   "outputs": [
    {
     "name": "stdout",
     "output_type": "stream",
     "text": [
      "El salario mensual más alto es: 400.00\n"
     ]
    }
   ],
   "source": [
    "print(f'El salario mensual más alto es: {df_salarios[\"salario_mensual\"].min():.2f}')"
   ]
  },
  {
   "cell_type": "markdown",
   "id": "32d6271d-ed7f-4a57-a7ed-46d2fcedb2f2",
   "metadata": {},
   "source": [
    "### ¿Cómo se llama el actual Alcalde?"
   ]
  },
  {
   "cell_type": "code",
   "execution_count": 248,
   "id": "93191213-a3d5-409e-9a3a-32df10e83ac9",
   "metadata": {},
   "outputs": [
    {
     "name": "stdout",
     "output_type": "stream",
     "text": [
      "Narvaez Mendieta Dalton Rafael\n"
     ]
    }
   ],
   "source": [
    "print(df_salarios[(df_salarios['puesto'] == 'Alcalde') & (df_salarios['anio'] == df_salarios['anio'].max())]['nombre'].values[0])"
   ]
  },
  {
   "cell_type": "markdown",
   "id": "294b61fe-789e-42a8-bf9f-918abb25969e",
   "metadata": {},
   "source": [
    "### ¿Cuál es el promedio por año de sueldos mensuales?"
   ]
  },
  {
   "cell_type": "code",
   "execution_count": 249,
   "id": "001fcef1-99ad-4f7a-ad5d-0445557069e6",
   "metadata": {},
   "outputs": [
    {
     "data": {
      "text/plain": [
       "anio\n",
       "2015    800.151675\n",
       "2016    810.416227\n",
       "2017    763.836716\n",
       "2018    768.787479\n",
       "2019    751.470934\n",
       "2020    768.877898\n",
       "2021    777.038716\n",
       "2022    769.811743\n",
       "Name: salario_mensual, dtype: float64"
      ]
     },
     "execution_count": 249,
     "metadata": {},
     "output_type": "execute_result"
    }
   ],
   "source": [
    "df_salarios.groupby('anio').mean()['salario_mensual']"
   ]
  },
  {
   "cell_type": "markdown",
   "id": "4dbdc1cb-a05f-4ee2-8805-8524c1499543",
   "metadata": {},
   "source": [
    "### ¿Cuántos puestos de trabajos únicos hay?"
   ]
  },
  {
   "cell_type": "code",
   "execution_count": 250,
   "id": "e7462775-85fc-4a6a-8984-7b9c92698db5",
   "metadata": {},
   "outputs": [
    {
     "data": {
      "text/plain": [
       "79"
      ]
     },
     "execution_count": 250,
     "metadata": {},
     "output_type": "execute_result"
    }
   ],
   "source": [
    "df_salarios['puesto'].nunique()"
   ]
  },
  {
   "cell_type": "markdown",
   "id": "25920e6c-dc5c-462d-8d39-b0048018e9d4",
   "metadata": {},
   "source": [
    "### ¿Cuáles son los 10 trabajos más comunes?"
   ]
  },
  {
   "cell_type": "code",
   "execution_count": 251,
   "id": "5c25c0c9-8b0f-4d16-980a-502bfa951241",
   "metadata": {},
   "outputs": [
    {
     "data": {
      "text/plain": [
       "Agente De Control    12529\n",
       "Analista              9102\n",
       "Asistente             8619\n",
       "Aseador De Calles     8333\n",
       "Auxiliar              7593\n",
       "Policia Municipal     5484\n",
       "Conductor             4263\n",
       "Jefe                  2697\n",
       "Técnico               2625\n",
       "Supervisor            2160\n",
       "Name: puesto, dtype: int64"
      ]
     },
     "execution_count": 251,
     "metadata": {},
     "output_type": "execute_result"
    }
   ],
   "source": [
    "df_salarios['puesto'].value_counts().sort_values(ascending=False).head(10)"
   ]
  },
  {
   "cell_type": "markdown",
   "id": "c9215c0c-d7d6-4013-b460-4bef2b71e682",
   "metadata": {},
   "source": [
    "### ¿Cuál es el gasto por año en sueldos?"
   ]
  },
  {
   "cell_type": "code",
   "execution_count": 252,
   "id": "c99566e6-f156-4c56-8e78-a8efb6c15aa8",
   "metadata": {},
   "outputs": [
    {
     "data": {
      "text/plain": [
       "anio\n",
       "2015     8047925.55\n",
       "2016     7969633.18\n",
       "2017     8997996.51\n",
       "2018     9637519.84\n",
       "2019    10126822.30\n",
       "2020    11559310.32\n",
       "2021    10801615.19\n",
       "2022      869887.27\n",
       "Name: salario_mensual, dtype: float64"
      ]
     },
     "execution_count": 252,
     "metadata": {},
     "output_type": "execute_result"
    }
   ],
   "source": [
    "df_salarios.groupby('anio')['salario_mensual'].sum()"
   ]
  },
  {
   "cell_type": "code",
   "execution_count": 255,
   "id": "6774e9eb-1019-4560-be22-77bad0a03d14",
   "metadata": {},
   "outputs": [],
   "source": [
    "df_salarios.to_excel(\"./salarios.xlsx\")"
   ]
  }
 ],
 "metadata": {
  "kernelspec": {
   "display_name": "Python 3",
   "language": "python",
   "name": "python3"
  },
  "language_info": {
   "codemirror_mode": {
    "name": "ipython",
    "version": 3
   },
   "file_extension": ".py",
   "mimetype": "text/x-python",
   "name": "python",
   "nbconvert_exporter": "python",
   "pygments_lexer": "ipython3",
   "version": "3.8.10"
  }
 },
 "nbformat": 4,
 "nbformat_minor": 5
}
